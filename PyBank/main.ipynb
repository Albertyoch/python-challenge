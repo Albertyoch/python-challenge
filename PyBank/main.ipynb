{
 "cells": [
  {
   "cell_type": "code",
   "execution_count": 1,
   "id": "1b64a504-1fe8-4f46-8f2d-1442ca8fe6f4",
   "metadata": {},
   "outputs": [],
   "source": [
    "#import the pathlib\n",
    "from pathlib import Path\n",
    "import csv"
   ]
  },
  {
   "cell_type": "code",
   "execution_count": 2,
   "id": "52a5b503-7821-48f7-ad29-b00165c9bcfc",
   "metadata": {},
   "outputs": [
    {
     "name": "stdout",
     "output_type": "stream",
     "text": [
      "Current Working Directory: C:\\Users\\alber\\OneDrive\\Desktop\\python-challenge\\PyBank\n"
     ]
    }
   ],
   "source": [
    "# set file path\n",
    "csvpath = Path('../Pybank/Assignment.csv')\n",
    "print(f\"Current Working Directory: {Path.cwd()}\")"
   ]
  },
  {
   "cell_type": "code",
   "execution_count": 3,
   "id": "eb561c1c-bfbf-4907-a578-afe3217665de",
   "metadata": {},
   "outputs": [],
   "source": [
    "profit_losses = []"
   ]
  },
  {
   "cell_type": "code",
   "execution_count": 4,
   "id": "65eb15a7-5721-45cf-9b31-af9d2cd24ab2",
   "metadata": {},
   "outputs": [],
   "source": [
    "#initialize variables\n",
    "total_month = 0\n",
    "net_total = 0\n",
    "average = 0\n",
    "minimum = 0\n",
    "maximum = 0\n",
    "changes = 0"
   ]
  },
  {
   "cell_type": "code",
   "execution_count": 5,
   "id": "d34eda07-0d89-4b22-b789-cd48f00c430c",
   "metadata": {},
   "outputs": [
    {
     "name": "stdout",
     "output_type": "stream",
     "text": [
      "date: Jan-10 | profit or loss : 867884\n",
      "date: Feb-10 | profit or loss : 984655\n",
      "date: Mar-10 | profit or loss : 322013\n",
      "date: Apr-10 | profit or loss : -69417\n",
      "date: May-10 | profit or loss : 310503\n",
      "date: Jun-10 | profit or loss : 522857\n",
      "date: Jul-10 | profit or loss : 1033096\n",
      "date: Aug-10 | profit or loss : 604885\n",
      "date: Sep-10 | profit or loss : -216386\n",
      "date: Oct-10 | profit or loss : 477532\n",
      "date: Nov-10 | profit or loss : 893810\n",
      "date: Dec-10 | profit or loss : -80353\n",
      "date: Jan-11 | profit or loss : 779806\n",
      "date: Feb-11 | profit or loss : -335203\n",
      "date: Mar-11 | profit or loss : 697845\n",
      "date: Apr-11 | profit or loss : 793163\n",
      "date: May-11 | profit or loss : 485070\n",
      "date: Jun-11 | profit or loss : 584122\n",
      "date: Jul-11 | profit or loss : 62729\n",
      "date: Aug-11 | profit or loss : 668179\n",
      "date: Sep-11 | profit or loss : 899906\n",
      "date: Oct-11 | profit or loss : 834719\n",
      "date: Nov-11 | profit or loss : 132003\n",
      "date: Dec-11 | profit or loss : 309978\n",
      "date: Jan-12 | profit or loss : -755566\n",
      "date: Feb-12 | profit or loss : 1170593\n",
      "date: Mar-12 | profit or loss : 252788\n",
      "date: Apr-12 | profit or loss : 1151518\n",
      "date: May-12 | profit or loss : 817256\n",
      "date: Jun-12 | profit or loss : 570757\n",
      "date: Jul-12 | profit or loss : 506702\n",
      "date: Aug-12 | profit or loss : -1022534\n",
      "date: Sep-12 | profit or loss : 475062\n",
      "date: Oct-12 | profit or loss : 779976\n",
      "date: Nov-12 | profit or loss : 144175\n",
      "date: Dec-12 | profit or loss : 542494\n",
      "date: Jan-13 | profit or loss : 359333\n",
      "date: Feb-13 | profit or loss : 321469\n",
      "date: Mar-13 | profit or loss : 67780\n",
      "date: Apr-13 | profit or loss : 471435\n",
      "date: May-13 | profit or loss : 565603\n",
      "date: Jun-13 | profit or loss : 872480\n",
      "date: Jul-13 | profit or loss : 789480\n",
      "date: Aug-13 | profit or loss : 999942\n",
      "date: Sep-13 | profit or loss : -1196225\n",
      "date: Oct-13 | profit or loss : 268997\n",
      "date: Nov-13 | profit or loss : -687986\n",
      "date: Dec-13 | profit or loss : 1150461\n",
      "date: Jan-14 | profit or loss : 682458\n",
      "date: Feb-14 | profit or loss : 617856\n",
      "date: Mar-14 | profit or loss : 824098\n",
      "date: Apr-14 | profit or loss : 581943\n",
      "date: May-14 | profit or loss : 132864\n",
      "date: Jun-14 | profit or loss : 448062\n",
      "date: Jul-14 | profit or loss : 689161\n",
      "date: Aug-14 | profit or loss : 800701\n",
      "date: Sep-14 | profit or loss : 1166643\n",
      "date: Oct-14 | profit or loss : 947333\n",
      "date: Nov-14 | profit or loss : 578668\n",
      "date: Dec-14 | profit or loss : 988505\n",
      "date: Jan-15 | profit or loss : 1139715\n",
      "date: Feb-15 | profit or loss : 1029471\n",
      "date: Mar-15 | profit or loss : 687533\n",
      "date: Apr-15 | profit or loss : -524626\n",
      "date: May-15 | profit or loss : 158620\n",
      "date: Jun-15 | profit or loss : 87795\n",
      "date: Jul-15 | profit or loss : 423389\n",
      "date: Aug-15 | profit or loss : 840723\n",
      "date: Sep-15 | profit or loss : 568529\n",
      "date: Oct-15 | profit or loss : 332067\n",
      "date: Nov-15 | profit or loss : 989499\n",
      "date: Dec-15 | profit or loss : 778237\n",
      "date: Jan-16 | profit or loss : 650000\n",
      "date: Feb-16 | profit or loss : -1100387\n",
      "date: Mar-16 | profit or loss : -174946\n",
      "date: Apr-16 | profit or loss : 757143\n",
      "date: May-16 | profit or loss : 445709\n",
      "date: Jun-16 | profit or loss : 712961\n",
      "date: Jul-16 | profit or loss : -1163797\n",
      "date: Aug-16 | profit or loss : 569899\n",
      "date: Sep-16 | profit or loss : 768450\n",
      "date: Oct-16 | profit or loss : 102685\n",
      "date: Nov-16 | profit or loss : 795914\n",
      "date: Dec-16 | profit or loss : 60988\n",
      "date: Jan-17 | profit or loss : 138230\n",
      "date: Feb-17 | profit or loss : 671099\n"
     ]
    }
   ],
   "source": [
    "#open csv file as an object\n",
    "with open(csvpath , 'r') as csvfile: \n",
    "    csvreader = csv.reader(csvfile, delimiter=',')\n",
    "    header = next(csvreader)\n",
    "    \n",
    "    for row in csvreader:\n",
    "        date = row[0]\n",
    "        profit_loss = int(row[1])\n",
    "        total_month += 1\n",
    "        net_total += profit_loss       \n",
    "        profit_losses.append(profit_loss)\n",
    "        print(f\"date: {date} | profit or loss : {profit_loss}\")"
   ]
  },
  {
   "cell_type": "code",
   "execution_count": 6,
   "id": "ca118639-5c57-4309-a44c-35074649be96",
   "metadata": {},
   "outputs": [],
   "source": [
    "previous_price = 0\n",
    "net_changes_list = []\n",
    "for profit_loss in profit_losses:\n",
    "    if previous_price != 0 and previous_price != profit_loss:\n",
    "        net_changes = profit_loss - previous_price\n",
    "        net_changes_list.append(net_changes)\n",
    "    previous_price = profit_loss"
   ]
  },
  {
   "cell_type": "code",
   "execution_count": 7,
   "id": "5677705f-f71a-491e-8bc9-6b686abc0aba",
   "metadata": {},
   "outputs": [
    {
     "name": "stdout",
     "output_type": "stream",
     "text": [
      "1926159\n",
      "-2196167\n"
     ]
    }
   ],
   "source": [
    "for net_changes in net_changes_list:\n",
    "    if minimum ==0:\n",
    "        minimum = net_changes \n",
    "        minimum_date = date\n",
    "    elif net_changes < minimum:\n",
    "        minimum = net_changes\n",
    "        minimum_date = date\n",
    "    elif net_changes > maximum:\n",
    "        maximum = net_changes\n",
    "        maximum_date = date\n",
    "print(maximum)\n",
    "print(minimum)\n",
    "    \n"
   ]
  },
  {
   "cell_type": "code",
   "execution_count": 8,
   "id": "81ab6a87-3c91-4710-a868-f814b325aaeb",
   "metadata": {},
   "outputs": [
    {
     "name": "stdout",
     "output_type": "stream",
     "text": [
      "116771\n"
     ]
    }
   ],
   "source": [
    "maximum_date = net_changes_list [0]\n",
    "minimum_date = net_changes_list [0]\n",
    "print(maximum_date)"
   ]
  },
  {
   "cell_type": "code",
   "execution_count": 9,
   "id": "d253e9cf-39f0-456f-8ee0-68e277887836",
   "metadata": {},
   "outputs": [
    {
     "data": {
      "text/plain": [
       "-196785"
      ]
     },
     "execution_count": 9,
     "metadata": {},
     "output_type": "execute_result"
    }
   ],
   "source": [
    "net_changes_sum = 0\n",
    "for net_changes in net_changes_list:\n",
    "    net_changes_sum = net_changes_sum + net_changes\n",
    "    \n",
    "net_changes_sum     "
   ]
  },
  {
   "cell_type": "code",
   "execution_count": 10,
   "id": "3e6d1d9f-d87a-4747-a7ac-7f953dae48fa",
   "metadata": {},
   "outputs": [],
   "source": [
    "#find the average of the profits and losses\n",
    "average = round(net_changes_sum / (total_month - 1), 2)"
   ]
  },
  {
   "cell_type": "code",
   "execution_count": 11,
   "id": "742723af-9f40-42d4-ab25-96ae727f57de",
   "metadata": {},
   "outputs": [
    {
     "name": "stdout",
     "output_type": "stream",
     "text": [
      "Financial Analysis\n",
      "\n",
      "-----------\n",
      "\n",
      "Total Months: 86\n",
      "Total profit or loss: 38382578\n",
      "Average: -2315.12\n",
      "Minimum: -2196167\n",
      "Maximum: 1926159\n"
     ]
    }
   ],
   "source": [
    "print(f\"Financial Analysis\")\n",
    "print()\n",
    "print(f\"-----------\")\n",
    "print()\n",
    "print(f\"Total Months: {total_month}\")\n",
    "print(f\"Total profit or loss: {net_total}\")\n",
    "print(f\"Average: {average}\")\n",
    "print(f\"Minimum: {minimum}\")\n",
    "print(f\"Maximum: {maximum}\")"
   ]
  },
  {
   "cell_type": "code",
   "execution_count": 12,
   "id": "403a8356-0f4d-404a-a614-ff7c209d8f20",
   "metadata": {},
   "outputs": [],
   "source": [
    "output_path = 'output.txt'"
   ]
  },
  {
   "cell_type": "code",
   "execution_count": 13,
   "id": "b601de6d-1d82-47cf-8d0e-3dc1a11e59cf",
   "metadata": {},
   "outputs": [],
   "source": [
    "with open(output_path, 'w') as file:\n",
    "    file.write(f\"Financial Results.\\n\")\n",
    "    file.write(f\"----------\\n\")\n",
    "    file.write(f\"The amount of months is {total_month}.\\n\")\n",
    "    file.write(f\"The total amount of profit or loss in the dataset is {net_total}.\\n\")\n",
    "    file.write(f\"The average of the changes in profit or loss is {average}.\\n\")\n",
    "    file.write(f\"The biggest increase in profit is {maximum}.\\n\")\n",
    "    file.write(f\"The biggest decrease in profit is {minimum}.\\n\")"
   ]
  },
  {
   "cell_type": "code",
   "execution_count": null,
   "id": "e4eb0657-81f3-47d1-9c60-bfa4c26e9692",
   "metadata": {},
   "outputs": [],
   "source": []
  }
 ],
 "metadata": {
  "kernelspec": {
   "display_name": "Python 3 (ipykernel)",
   "language": "python",
   "name": "python3"
  },
  "language_info": {
   "codemirror_mode": {
    "name": "ipython",
    "version": 3
   },
   "file_extension": ".py",
   "mimetype": "text/x-python",
   "name": "python",
   "nbconvert_exporter": "python",
   "pygments_lexer": "ipython3",
   "version": "3.7.15"
  }
 },
 "nbformat": 4,
 "nbformat_minor": 5
}
